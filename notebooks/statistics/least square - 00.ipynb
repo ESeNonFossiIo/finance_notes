{
 "cells": [
  {
   "cell_type": "markdown",
   "id": "2a4fda2a",
   "metadata": {},
   "source": [
    "# Least Squares"
   ]
  },
  {
   "cell_type": "markdown",
   "id": "937bf224",
   "metadata": {},
   "source": [
    "## Linear Case"
   ]
  },
  {
   "cell_type": "markdown",
   "id": "c9d6fd5e",
   "metadata": {},
   "source": [
    "\\$ \\\\{(x_i, y_i)\\\\}_i^N \\$ points"
   ]
  },
  {
   "cell_type": "markdown",
   "id": "d825d239",
   "metadata": {},
   "source": [
    "Square of the distance between \\$ y_i \\$ and \\$ m x_i + q \\$:\n",
    "\n",
    "\n",
    "\\$\n",
    "    F = \\sum_i \\big(y_i - (m x_i + q) \\big)^2\n",
    "\\$"
   ]
  },
  {
   "cell_type": "markdown",
   "id": "d408de16",
   "metadata": {},
   "source": [
    "Quantities used later:\n",
    "\n",
    "\\$\n",
    "  X = \\sum_i x_i       \\newline\n",
    "  X^2 = \\sum_i x^2_i   \\newline\n",
    "  Y = \\sum_i y_i       \\newline\n",
    "  XY = \\sum_i x_i y_i\n",
    "\\$"
   ]
  },
  {
   "cell_type": "markdown",
   "id": "8127a20f",
   "metadata": {},
   "source": [
    "### Derivatives"
   ]
  },
  {
   "cell_type": "markdown",
   "id": "7531fdd4",
   "metadata": {},
   "source": [
    "\\$\n",
    "\\begin{array}{}\n",
    "    \\partial_m F & = & 2 \\cdot \\sum_i \\big(y_i - (m x_i + q) \\big)\\cdot x_i                         \\newline\n",
    "                 & = & 2 \\cdot \\sum_i \\big( (y_i \\cdot x_i) - (m x_i\\cdot x_i) - (q\\cdot x_i) \\big) \\newline\n",
    "                 & = & 2 \\cdot ( XY - m X^2 - q X)                                                  \\newline\n",
    "    \\partial_q F & = & - 2 \\cdot \\sum_i \\big(y_i - (m x_i + q) \\big)                                \\newline\n",
    "                 & = & - 2 \\cdot \\sum_i \\big(y_i -  m x_i - q \\big)                                 \\newline\n",
    "                 & = & - 2 \\cdot ( Y - m X - q N)                                                   \\newline\n",
    "\\end{array}\n",
    "\\$"
   ]
  },
  {
   "cell_type": "markdown",
   "id": "f36508af",
   "metadata": {},
   "source": [
    "Set derivative to zero:\n",
    "\n",
    "\\$ \\nabla F = 0 \\$\n",
    "\n",
    "\\$\n",
    "\\left\\\\{\n",
    "\\begin{array}\n",
    "    XY - m X^2 - q X & = & 0 \\newline\n",
    "     Y - m X - q N & = & 0\n",
    "\\end{array}\n",
    "\\right.\n",
    "\\$"
   ]
  },
  {
   "cell_type": "markdown",
   "id": "a542082b",
   "metadata": {},
   "source": [
    "\\$\n",
    "\\left\\\\{\n",
    "\\begin{array}\n",
    "    q N + m X     & = & Y  \\newline\n",
    "    q X + m X^2   & = & XY \n",
    "\\end{array}\n",
    "\\right.\n",
    "\\$"
   ]
  },
  {
   "cell_type": "markdown",
   "id": "2be4f2f1",
   "metadata": {},
   "source": [
    "Using vandermonde matrix\n",
    "\\$\n",
    "V_n = \n",
    "\\left(\n",
    "\\begin{matrix}\n",
    "    1 & x_0    & \\ldots & x_0^n  \\newline\n",
    "    1 & \\ldots & \\ldots & \\ldots \\newline\n",
    "    1 & x_m    & \\ldots & x_m^n\n",
    "\\end{matrix}\n",
    "\\right)\n",
    "\\$\n",
    "\n",
    "the previous systems reduces to:\n",
    "\\$\n",
    "V_1^t \\cdot V_1 \\cdot x = V_1^t \\cdot y\n",
    "\\$\n",
    "\n",
    "\n",
    "\\$\n",
    "x = (V_1^t \\cdot V_1)^{-1} \\cdot V_1^t \\cdot y\n",
    "\\$"
   ]
  },
  {
   "cell_type": "markdown",
   "id": "59efa7d3",
   "metadata": {},
   "source": [
    "Previous formula generalises to higher order case\n",
    "\n",
    "\\$\n",
    "x = (V_n^t \\cdot V_n)^{-1} \\cdot V_n^t \\cdot y\n",
    "\\$"
   ]
  },
  {
   "cell_type": "markdown",
   "id": "9a8b7157",
   "metadata": {},
   "source": [
    "## Numerical tests"
   ]
  },
  {
   "cell_type": "code",
   "execution_count": 6,
   "id": "5f9af337",
   "metadata": {},
   "outputs": [],
   "source": [
    "import numpy as np\n",
    "from scipy import optimize\n",
    "import matplotlib.pyplot as plt"
   ]
  },
  {
   "cell_type": "code",
   "execution_count": 48,
   "id": "11121c27",
   "metadata": {},
   "outputs": [],
   "source": [
    "# number of points to generate\n",
    "nPoints = 1000\n",
    "# order of the interpolating function\n",
    "order = 10 # < 11"
   ]
  },
  {
   "cell_type": "code",
   "execution_count": 49,
   "id": "d7694f92",
   "metadata": {},
   "outputs": [],
   "source": [
    "a = np.random.random(order + 1)\n",
    "\n",
    "# generate x and y\n",
    "x = np.linspace(0, 1, nPoints)\n",
    "y = a * np.array([x] * (order + 1)).T**range(order + 1) \n",
    "y = np.sum(y, axis=1) + 0.001 * np.random.random(len(x))"
   ]
  },
  {
   "cell_type": "code",
   "execution_count": 50,
   "id": "9456283e",
   "metadata": {},
   "outputs": [],
   "source": [
    "# Vandermonde matrix:\n",
    "V = np.array([x] * (order + 1)).T**range(order + 1)\n",
    "Vt = V.transpose()\n",
    "\n",
    "# compute coeff\n",
    "c = np.dot(np.dot(np.linalg.inv(np.dot(Vt, V)), Vt), y)"
   ]
  },
  {
   "cell_type": "code",
   "execution_count": 51,
   "id": "93cc7d5c",
   "metadata": {},
   "outputs": [
    {
     "data": {
      "image/png": "[encoded data removed]",
      "text/plain": [
       "<Figure size 640x480 with 1 Axes>"
      ]
     },
     "metadata": {},
     "output_type": "display_data"
    }
   ],
   "source": [
    "plt.figure()\n",
    "\n",
    "plt.plot(x, y, 'b.')\n",
    "\n",
    "yNew = np.sum(c * np.array([x] * (order + 1)).T**range(order + 1), axis=1)\n",
    "plt.plot(x, yNew, 'r-')\n",
    "\n",
    "plt.show()"
   ]
  },
  {
   "cell_type": "code",
   "execution_count": 52,
   "id": "0e4718c9",
   "metadata": {},
   "outputs": [
    {
     "data": {
      "text/plain": [
       "235.4406844548754"
      ]
     },
     "execution_count": 52,
     "metadata": {},
     "output_type": "execute_result"
    }
   ],
   "source": [
    "np.linalg.norm(a - c)"
   ]
  },
  {
   "cell_type": "code",
   "execution_count": 53,
   "id": "75353e6a",
   "metadata": {},
   "outputs": [
    {
     "data": {
      "text/plain": [
       "array([1.        , 0.22690199, 0.18546766, 0.99112114, 0.29963817,\n",
       "       1.13935929, 0.7066207 , 0.38823892, 0.05470386, 0.87020497,\n",
       "       0.1239164 ])"
      ]
     },
     "execution_count": 53,
     "metadata": {},
     "output_type": "execute_result"
    }
   ],
   "source": [
    "a/a[0]"
   ]
  },
  {
   "cell_type": "code",
   "execution_count": 54,
   "id": "88b42966",
   "metadata": {},
   "outputs": [
    {
     "data": {
      "text/plain": [
       "array([   1.        ,    0.20074687,    0.55621807,   -2.49627723,\n",
       "         19.42774374,  -62.71417774,  134.32462625, -176.10031242,\n",
       "        142.99046486,  -63.93564323,   12.71601009])"
      ]
     },
     "execution_count": 54,
     "metadata": {},
     "output_type": "execute_result"
    }
   ],
   "source": [
    "c/c[0]"
   ]
  },
  {
   "cell_type": "code",
   "execution_count": null,
   "id": "098c4544",
   "metadata": {},
   "outputs": [],
   "source": []
  }
 ],
 "metadata": {
  "kernelspec": {
   "display_name": "nb",
   "language": "python",
   "name": "nb"
  },
  "language_info": {
   "codemirror_mode": {
    "name": "ipython",
    "version": 3
   },
   "file_extension": ".py",
   "mimetype": "text/x-python",
   "name": "python",
   "nbconvert_exporter": "python",
   "pygments_lexer": "ipython3",
   "version": "3.10.9"
  }
 },
 "nbformat": 4,
 "nbformat_minor": 5
}
