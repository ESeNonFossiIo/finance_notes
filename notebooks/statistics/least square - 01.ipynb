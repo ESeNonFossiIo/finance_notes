{
 "cells": [
  {
   "cell_type": "code",
   "execution_count": 1,
   "id": "d75c8f7b",
   "metadata": {},
   "outputs": [],
   "source": [
    "from os.path import abspath, dirname\n",
    "from os.path import join\n",
    "\n",
    "THIS_NB_PATH = dirname(abspath(\"least square - 01.ipynb\"))\n",
    "LIB_PATH = abspath(join(THIS_NB_PATH, \"..\", \"..\"))"
   ]
  },
  {
   "cell_type": "code",
   "execution_count": 2,
   "id": "46426a04",
   "metadata": {},
   "outputs": [],
   "source": [
    "from sys import path\n",
    "path.append(LIB_PATH)"
   ]
  },
  {
   "cell_type": "code",
   "execution_count": 3,
   "id": "f8e26aed",
   "metadata": {},
   "outputs": [],
   "source": [
    "from myNotesLib.math.regression import regression\n",
    "from myNotesLib.math.poly import eval_poly"
   ]
  },
  {
   "cell_type": "markdown",
   "id": "2a4fda2a",
   "metadata": {},
   "source": [
    "# Least Squares"
   ]
  },
  {
   "cell_type": "code",
   "execution_count": 4,
   "id": "f8637604",
   "metadata": {},
   "outputs": [],
   "source": [
    "import numpy as np\n",
    "import matplotlib.pyplot as plt"
   ]
  },
  {
   "cell_type": "code",
   "execution_count": 42,
   "id": "11121c27",
   "metadata": {},
   "outputs": [],
   "source": [
    "# number of points to generate\n",
    "nPoints = 1000000\n",
    "\n",
    "# order of the interpolating function\n",
    "order = 3 # < 11"
   ]
  },
  {
   "cell_type": "code",
   "execution_count": 43,
   "id": "d7694f92",
   "metadata": {},
   "outputs": [],
   "source": [
    "a = np.random.random(order + 1)\n",
    "\n",
    "# generate x and y\n",
    "x = np.random.random(nPoints)\n",
    "y = a * np.array([x] * (order + 1)).T**range(order + 1) \n",
    "y = np.sum(y, axis=1) + (np.random.random(len(x)) - 0.5)\n",
    "\n",
    "b = regression(x, y, order)"
   ]
  },
  {
   "cell_type": "code",
   "execution_count": 44,
   "id": "21c8fad6",
   "metadata": {},
   "outputs": [
    {
     "data": {
      "text/plain": [
       "0.009157273350980637"
      ]
     },
     "execution_count": 44,
     "metadata": {},
     "output_type": "execute_result"
    }
   ],
   "source": [
    "x = np.linspace(0.0, 1.0, 100)\n",
    "\n",
    "m0 = eval_poly(a, x)\n",
    "m1 = eval_poly(b, x)\n",
    "\n",
    "np.linalg.norm(m0 - m1)"
   ]
  },
  {
   "cell_type": "code",
   "execution_count": 45,
   "id": "0c65f0b9",
   "metadata": {},
   "outputs": [
    {
     "data": {
      "text/plain": [
       "0.026401291033760366"
      ]
     },
     "execution_count": 45,
     "metadata": {},
     "output_type": "execute_result"
    }
   ],
   "source": [
    "np.linalg.norm(a - b, 2)"
   ]
  },
  {
   "cell_type": "code",
   "execution_count": 46,
   "id": "867eafb6",
   "metadata": {},
   "outputs": [],
   "source": []
  },
  {
   "cell_type": "code",
   "execution_count": 47,
   "id": "edd11e56",
   "metadata": {},
   "outputs": [
    {
     "data": {
      "image/png": "[encoded data removed]",
      "text/plain": [
       "<Figure size 640x480 with 1 Axes>"
      ]
     },
     "metadata": {},
     "output_type": "display_data"
    }
   ],
   "source": [
    "plt.figure()\n",
    "\n",
    "plt.plot(x, m0, 'b-')\n",
    "plt.plot(x, m1, 'r-')\n",
    "\n",
    "plt.show()"
   ]
  },
  {
   "cell_type": "code",
   "execution_count": null,
   "id": "c9297b37",
   "metadata": {},
   "outputs": [],
   "source": []
  }
 ],
 "metadata": {
  "kernelspec": {
   "display_name": "nb",
   "language": "python",
   "name": "nb"
  },
  "language_info": {
   "codemirror_mode": {
    "name": "ipython",
    "version": 3
   },
   "file_extension": ".py",
   "mimetype": "text/x-python",
   "name": "python",
   "nbconvert_exporter": "python",
   "pygments_lexer": "ipython3",
   "version": "3.10.9"
  }
 },
 "nbformat": 4,
 "nbformat_minor": 5
}
