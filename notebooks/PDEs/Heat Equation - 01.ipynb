{
 "cells": [
  {
   "cell_type": "markdown",
   "id": "3d9c37ee",
   "metadata": {},
   "source": [
    "Link:\n",
    "    \n",
    "    https://en.wikipedia.org/wiki/Finite_difference_method"
   ]
  },
  {
   "cell_type": "markdown",
   "id": "46c7fe12",
   "metadata": {},
   "source": [
    "\\$\n",
    "{\n",
    " \\displaystyle \n",
    " {\\begin{cases}\n",
    " U_{t}=\\alpha \\Delta U \\\\\n",
    " U(x, 0, t) = U(0, y, t) = U(1, y, t) = 0 & {\\text{(boundary condition)}} \\\\\n",
    " U(x, 1, t) = 100 & {\\text{(boundary condition)}} \\\\\n",
    " U(D, 0)=U_{0}(x, y) & {\\text{(initial condition)}}\n",
    " \\end{cases}}\n",
    "}\n",
    "\\$"
   ]
  },
  {
   "cell_type": "code",
   "execution_count": 12,
   "id": "25a8070e",
   "metadata": {},
   "outputs": [],
   "source": [
    "import numpy as np\n",
    "import matplotlib.pyplot as plt"
   ]
  },
  {
   "cell_type": "code",
   "execution_count": 13,
   "id": "8c580ef4",
   "metadata": {},
   "outputs": [],
   "source": [
    "from ipywidgets import HTML"
   ]
  },
  {
   "cell_type": "code",
   "execution_count": 14,
   "id": "4bdbc8f5",
   "metadata": {},
   "outputs": [],
   "source": [
    "from matplotlib.animation import FuncAnimation"
   ]
  },
  {
   "cell_type": "code",
   "execution_count": 15,
   "id": "6f4dd3d8",
   "metadata": {},
   "outputs": [
    {
     "name": "stdout",
     "output_type": "stream",
     "text": [
      "The autoreload extension is already loaded. To reload it, use:\n",
      "  %reload_ext autoreload\n"
     ]
    }
   ],
   "source": [
    "%load_ext autoreload\n",
    "%autoreload 2\n",
    "\n",
    "%matplotlib inline"
   ]
  },
  {
   "cell_type": "markdown",
   "id": "2dba3f7a",
   "metadata": {},
   "source": [
    "# Explicit method"
   ]
  },
  {
   "cell_type": "markdown",
   "id": "93c4f8ae",
   "metadata": {},
   "source": [
    "## Params:"
   ]
  },
  {
   "cell_type": "code",
   "execution_count": 16,
   "id": "0d3aa7a2",
   "metadata": {},
   "outputs": [],
   "source": [
    "plate_length = 1.0\n",
    "max_time_iters = 100000\n",
    "alpha = 2.0\n",
    "dx = 1.0e-2"
   ]
  },
  {
   "cell_type": "code",
   "execution_count": 17,
   "id": "552bf478",
   "metadata": {},
   "outputs": [],
   "source": []
  },
  {
   "cell_type": "code",
   "execution_count": 18,
   "id": "11eb42ce",
   "metadata": {},
   "outputs": [
    {
     "name": "stdout",
     "output_type": "stream",
     "text": [
      "grid size    : 100\n",
      "time step    : 1.25e-05\n",
      "gamma        : 0.25\n",
      "total time   : 1.25\n"
     ]
    }
   ],
   "source": [
    "parameters = {\n",
    "    'grid size': nx, \n",
    "    'time step': dt, \n",
    "    'gamma': gamma, \n",
    "    'total time': dt * max_time_iters,\n",
    "}\n",
    "\n",
    "for label in parameters.keys():\n",
    "    print(f\"{label:12} : {parameters[label]}\")"
   ]
  },
  {
   "cell_type": "markdown",
   "id": "3c7f4b4d",
   "metadata": {},
   "source": [
    "## Simulation:"
   ]
  },
  {
   "cell_type": "code",
   "execution_count": 22,
   "id": "eb4c4028",
   "metadata": {},
   "outputs": [],
   "source": [
    "dt = dx * dx / (4.0 * alpha)\n",
    "nx = (int)(plate_length / dx) \n",
    "\n",
    "hx = (1.0 / (dx))\n",
    "hx2 = (1.0 / (dx * dx))\n",
    "ht = (1.0 / dt)"
   ]
  },
  {
   "cell_type": "code",
   "execution_count": null,
   "id": "223fd390",
   "metadata": {},
   "outputs": [],
   "source": []
  },
  {
   "cell_type": "code",
   "execution_count": 32,
   "id": "5dc8b289",
   "metadata": {},
   "outputs": [],
   "source": [
    "def derivative_x(u):\n",
    "    return hx * (u[k, 1:, 1:-1] - u[k, :-1, 1:-1])\n",
    "\n",
    "def derivative_y(u):\n",
    "    return hx * (u[k, 1:-1, 1:] - u[k, 1:-1, :-1])"
   ]
  },
  {
   "cell_type": "code",
   "execution_count": 37,
   "id": "4c9c907b",
   "metadata": {},
   "outputs": [
    {
     "data": {
      "text/plain": [
       "array([1., 1., 1., 1., 1., 1., 1., 1., 1., 1., 1., 1., 1., 1., 1., 1., 1.,\n",
       "       1., 1., 1., 1., 1., 1., 1., 1., 1., 1., 1., 1., 1., 1., 1., 1., 1.,\n",
       "       1., 1., 1., 1., 1., 1., 1., 1., 1., 1., 1., 1., 1., 1., 1., 1., 1.,\n",
       "       1., 1., 1., 1., 1., 1., 1., 1., 1., 1., 1., 1., 1., 1., 1., 1., 1.,\n",
       "       1., 1., 1., 1., 1., 1., 1., 1., 1., 1., 1., 1., 1., 1., 1., 1., 1.,\n",
       "       1., 1., 1., 1., 1., 1., 1., 1., 1., 1., 1., 1., 1., 1.])"
      ]
     },
     "execution_count": 37,
     "metadata": {},
     "output_type": "execute_result"
    }
   ],
   "source": [
    "x = np.linspace(0.0, 1.0, 100)\n",
    "\n",
    "y = x\n",
    "dy = (y[1:] - y[:-1]) / (x[1] - x[0])\n",
    "\n",
    "dy"
   ]
  },
  {
   "cell_type": "code",
   "execution_count": 23,
   "id": "0b22f428",
   "metadata": {},
   "outputs": [],
   "source": [
    "def laplacian(u):\n",
    "    return hx2 * (u[k, 2:, 1:-1] + u[k, :-2, 1:-1] + u[k, 1:-1, 2:] + u[k, 1:-1, :-2] - (4.0 * u[k, 1:-1, 1:-1]))"
   ]
  },
  {
   "cell_type": "code",
   "execution_count": 24,
   "id": "55bc2181",
   "metadata": {},
   "outputs": [],
   "source": [
    "# initial conditions:\n",
    "u0 = np.zeros((max_time_iters, nx, nx))\n",
    "u0.fill(0.0)\n",
    "\n",
    "# boundary conditions:\n",
    "# tod:\n",
    "u0[:, -1:, :] = 100.0\n",
    "# left\n",
    "u0[:, :, :1] = 0.0\n",
    "# bottom\n",
    "u0[:, :1, 1:] = 0.0\n",
    "# right\n",
    "u0[:, :, -1:] = 0.0\n",
    "\n",
    "# solve the problem:\n",
    "u = u0.copy()\n",
    "for k in range(max_time_iters - 1):\n",
    "    u[k+1, 1:-1, 1:-1] = (dt * alpha * laplacian(u)) + u[k, 1:-1, 1:-1]"
   ]
  },
  {
   "cell_type": "code",
   "execution_count": 25,
   "id": "304d8a81",
   "metadata": {},
   "outputs": [],
   "source": [
    "skipFrame = 1000\n",
    "uRender = u[::skipFrame,:,:]"
   ]
  },
  {
   "cell_type": "code",
   "execution_count": 26,
   "id": "f23ba9b0",
   "metadata": {},
   "outputs": [
    {
     "name": "stdout",
     "output_type": "stream",
     "text": [
      "0\r"
     ]
    },
    {
     "data": {
      "image/png": "[encoded data removed]",
      "text/plain": [
       "<Figure size 640x480 with 1 Axes>"
      ]
     },
     "metadata": {},
     "output_type": "display_data"
    },
    {
     "data": {
      "image/png": "[encoded data removed]",
      "text/plain": [
       "<Figure size 640x480 with 1 Axes>"
      ]
     },
     "metadata": {},
     "output_type": "display_data"
    }
   ],
   "source": [
    "fig = plt.figure()\n",
    "ax = plt.axes(xlim=(0.0, nx), \n",
    "              ylim=(0.0, nx))\n",
    "\n",
    "skipFrame = 1000\n",
    "ax.set_xlabel(\"x\")\n",
    "ax.set_ylabel(\"y\")\n",
    "\n",
    "\n",
    "fig  = plt.figure()\n",
    "ax   = plt.subplot(111)\n",
    "fond = ax.pcolormesh(uRender[0], cmap=plt.cm.jet, vmin=0, vmax=nx)\n",
    "\n",
    "def animate(t):\n",
    "    print(t, end='\\r')\n",
    "    ax.cla()\n",
    "    fond = ax.pcolormesh(uRender[t], cmap=plt.cm.jet, vmin=0, vmax=nx)\n",
    "    return fond,\n",
    "\n",
    "eq_anim = FuncAnimation(fig, animate, frames=uRender.shape[0])"
   ]
  },
  {
   "cell_type": "code",
   "execution_count": 27,
   "id": "b8b1605f",
   "metadata": {},
   "outputs": [
    {
     "name": "stdout",
     "output_type": "stream",
     "text": [
      "99\r"
     ]
    }
   ],
   "source": [
    "eq_video = eq_anim.to_html5_video()"
   ]
  },
  {
   "cell_type": "code",
   "execution_count": 28,
   "id": "345b6ee0",
   "metadata": {},
   "outputs": [
    {
     "data": {
      "application/vnd.jupyter.widget-view+json": {
       "model_id": "5bd9debf6c0e45ecb64980ec0e7b237b",
       "version_major": 2,
       "version_minor": 0
      },
      "text/plain": [
       "HTML(value='<video width=\"640\" height=\"480\" controls autoplay loop>\\n  <source type=\"video/mp4\" src=\"data:vide…"
      ]
     },
     "execution_count": 28,
     "metadata": {},
     "output_type": "execute_result"
    }
   ],
   "source": [
    "HTML(eq_video)"
   ]
  },
  {
   "cell_type": "code",
   "execution_count": 29,
   "id": "169cee13",
   "metadata": {},
   "outputs": [
    {
     "name": "stdout",
     "output_type": "stream",
     "text": [
      "99\r"
     ]
    }
   ],
   "source": [
    "eq_anim.save('eq_anim.gif', writer='pillow', fps=60)"
   ]
  },
  {
   "cell_type": "code",
   "execution_count": 30,
   "id": "cecb741c",
   "metadata": {},
   "outputs": [],
   "source": [
    "plt.close()"
   ]
  }
 ],
 "metadata": {
  "kernelspec": {
   "display_name": "nb",
   "language": "python",
   "name": "nb"
  },
  "language_info": {
   "codemirror_mode": {
    "name": "ipython",
    "version": 3
   },
   "file_extension": ".py",
   "mimetype": "text/x-python",
   "name": "python",
   "nbconvert_exporter": "python",
   "pygments_lexer": "ipython3",
   "version": "3.10.9"
  }
 },
 "nbformat": 4,
 "nbformat_minor": 5
}
