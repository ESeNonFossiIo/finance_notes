{
 "cells": [
  {
   "cell_type": "code",
   "execution_count": 1,
   "id": "deb42f51",
   "metadata": {},
   "outputs": [],
   "source": [
    "import numpy as np"
   ]
  },
  {
   "cell_type": "code",
   "execution_count": 5,
   "id": "566dc3fb",
   "metadata": {},
   "outputs": [],
   "source": [
    "v = np.arange(0,10)"
   ]
  },
  {
   "cell_type": "code",
   "execution_count": 18,
   "id": "b8b8151d",
   "metadata": {},
   "outputs": [],
   "source": [
    "u = v.reshape(2,5)"
   ]
  },
  {
   "cell_type": "code",
   "execution_count": 19,
   "id": "adbd7044",
   "metadata": {},
   "outputs": [
    {
     "data": {
      "text/plain": [
       "array([[7, 8, 9]])"
      ]
     },
     "execution_count": 19,
     "metadata": {},
     "output_type": "execute_result"
    }
   ],
   "source": [
    "u[1:,2:]"
   ]
  },
  {
   "cell_type": "code",
   "execution_count": 20,
   "id": "af8f463e",
   "metadata": {},
   "outputs": [
    {
     "data": {
      "text/plain": [
       "array([], shape=(0, 5), dtype=int64)"
      ]
     },
     "execution_count": 20,
     "metadata": {},
     "output_type": "execute_result"
    }
   ],
   "source": [
    "u[1:][2:]"
   ]
  },
  {
   "cell_type": "code",
   "execution_count": 45,
   "id": "6ef408b0",
   "metadata": {},
   "outputs": [
    {
     "data": {
      "text/plain": [
       "array([], shape=(1, 0), dtype=int64)"
      ]
     },
     "execution_count": 45,
     "metadata": {},
     "output_type": "execute_result"
    }
   ],
   "source": [
    "u[1:, 1:5:-1]"
   ]
  },
  {
   "cell_type": "markdown",
   "id": "acd677d8",
   "metadata": {},
   "source": [
    "# u[1]"
   ]
  },
  {
   "cell_type": "code",
   "execution_count": null,
   "id": "93af17ca",
   "metadata": {},
   "outputs": [],
   "source": []
  }
 ],
 "metadata": {
  "kernelspec": {
   "display_name": "env_nb",
   "language": "python",
   "name": "env_nb"
  },
  "language_info": {
   "codemirror_mode": {
    "name": "ipython",
    "version": 3
   },
   "file_extension": ".py",
   "mimetype": "text/x-python",
   "name": "python",
   "nbconvert_exporter": "python",
   "pygments_lexer": "ipython3",
   "version": "3.10.9"
  }
 },
 "nbformat": 4,
 "nbformat_minor": 5
}
