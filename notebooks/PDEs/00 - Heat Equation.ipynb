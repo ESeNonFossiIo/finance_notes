{
 "cells": [
  {
   "cell_type": "markdown",
   "id": "53c6f533",
   "metadata": {},
   "source": [
    "Link:\n",
    "    \n",
    "    https://en.wikipedia.org/wiki/Finite_difference_method"
   ]
  },
  {
   "cell_type": "markdown",
   "id": "04075860",
   "metadata": {},
   "source": [
    "\\$\n",
    "{\n",
    " \\displaystyle \n",
    " {\\begin{cases}U_{t}=\\alpha \\Delta U\\\\U(0,t)=U(1,t)=0&\n",
    " {\\text{(boundary condition)}}\\\\U(x,0)=U_{0}(x)&\n",
    " {\\text{(initial condition)}}\\end{cases}}\n",
    "}\n",
    "\\$"
   ]
  },
  {
   "cell_type": "code",
   "execution_count": 1,
   "id": "dee96fad",
   "metadata": {},
   "outputs": [],
   "source": [
    "import numpy as np\n",
    "import matplotlib.pyplot as plt"
   ]
  },
  {
   "cell_type": "code",
   "execution_count": 2,
   "id": "af079297",
   "metadata": {},
   "outputs": [],
   "source": [
    "from matplotlib.animation import FuncAnimation"
   ]
  },
  {
   "cell_type": "code",
   "execution_count": 3,
   "id": "f79557ff",
   "metadata": {},
   "outputs": [],
   "source": [
    "%matplotlib notebook\n",
    "plt.rc('animation', html='html5')"
   ]
  },
  {
   "cell_type": "code",
   "execution_count": 4,
   "id": "16226056",
   "metadata": {},
   "outputs": [
    {
     "name": "stdout",
     "output_type": "stream",
     "text": [
      "Warning: Cannot change to a different GUI toolkit: nbagg. Using notebook instead.\n"
     ]
    }
   ],
   "source": [
    "%matplotlib nbagg"
   ]
  },
  {
   "cell_type": "markdown",
   "id": "114bdb6d",
   "metadata": {},
   "source": [
    "# Explicit method"
   ]
  },
  {
   "cell_type": "markdown",
   "id": "e0aaa503",
   "metadata": {},
   "source": [
    "\\${\\displaystyle {\\frac {u_{j}^{n+1}-u_{j}^{n}}{k}}={\\frac {u_{j+1}^{n}-2u_{j}^{n}+u_{j-1}^{n}}{h^{2}}}.}\\$"
   ]
  },
  {
   "cell_type": "markdown",
   "id": "1ebbbebd",
   "metadata": {},
   "source": [
    "## Params:"
   ]
  },
  {
   "cell_type": "code",
   "execution_count": 5,
   "id": "86b4c03b",
   "metadata": {},
   "outputs": [],
   "source": [
    "plate_length = 1.0\n",
    "max_time_iters = 100000\n",
    "alpha = 2.0\n",
    "dx = 1.0e-2"
   ]
  },
  {
   "cell_type": "code",
   "execution_count": 6,
   "id": "e66d3746",
   "metadata": {},
   "outputs": [],
   "source": [
    "dt = dx * dx / (4.0 * alpha)\n",
    "gamma = alpha * dt / (dx * dx)\n",
    "nx = (int)(plate_length / dx) "
   ]
  },
  {
   "cell_type": "code",
   "execution_count": 7,
   "id": "b8fa5e38",
   "metadata": {},
   "outputs": [
    {
     "data": {
      "text/plain": [
       "(100, 1.25e-05, 0.25, 1.25)"
      ]
     },
     "execution_count": 7,
     "metadata": {},
     "output_type": "execute_result"
    }
   ],
   "source": [
    "nx, dt, gamma, dt * max_time_iters"
   ]
  },
  {
   "cell_type": "markdown",
   "id": "688df0c3",
   "metadata": {},
   "source": [
    "## Simulation:"
   ]
  },
  {
   "cell_type": "code",
   "execution_count": 8,
   "id": "f165f3b9",
   "metadata": {},
   "outputs": [],
   "source": [
    "# initial conditions:\n",
    "u0 = np.zeros((max_time_iters, nx, nx))\n",
    "u0.fill(0.0)\n",
    "\n",
    "# boundary conditions:\n",
    "# tod:\n",
    "u0[:, -1:, :] = 100.0\n",
    "# left\n",
    "u0[:, :, :1] = 0.0\n",
    "# bottom\n",
    "u0[:, :1, 1:] = 0.0\n",
    "# right\n",
    "u0[:, :, -1:] = 0.0\n",
    "\n",
    "# solve the problem:\n",
    "u = u0.copy()\n",
    "for k in range(max_time_iters - 1):\n",
    "    u[k+1, 1:-1, 1:-1] = gamma * (u[k, 2:, 1:-1] + u[k, :-2, 1:-1] + u[k, 1:-1, 2:] + u[k, 1:-1, :-2] - 4*u[k, 1:-1, 1:-1] ) \n",
    "    u[k+1, 1:-1, 1:-1] += u[k, 1:-1, 1:-1]"
   ]
  },
  {
   "cell_type": "code",
   "execution_count": 10,
   "id": "164fd85e",
   "metadata": {},
   "outputs": [],
   "source": [
    "fig = plt.figure()\n",
    "ax = plt.axes(xlim=(0.0, nx), \n",
    "              ylim=(0.0, nx))\n",
    "\n",
    "ax.set_xlabel(\"x\")\n",
    "ax.set_ylabel(\"y\")\n",
    "\n",
    "pmesh = ax.pcolormesh(u[0], cmap=plt.cm.jet, vmin=0, vmax=nx)\n",
    "\n",
    "def update_plot(k):\n",
    "    ax.set_title(f\"Solition at t = {k*dt:.1f}\")\n",
    "    pmesh.set_array(u[k])\n",
    "\n",
    "eq_anim = FuncAnimation(fig, update_plot, interval=60, frames=max_time_iters, repeat=False, blit=True)\n",
    "plt.show()"
   ]
  },
  {
   "cell_type": "code",
   "execution_count": null,
   "id": "3892096e",
   "metadata": {},
   "outputs": [],
   "source": [
    "eq_anim.save('eq_anim.mp4', writer='pillow', fps=60, extra_args=['-vcodec', 'libx264'])"
   ]
  },
  {
   "cell_type": "code",
   "execution_count": null,
   "id": "20b5a332",
   "metadata": {},
   "outputs": [],
   "source": [
    "eq_video = eq_anim.to_html5_video()"
   ]
  },
  {
   "cell_type": "code",
   "execution_count": null,
   "id": "019b000f",
   "metadata": {},
   "outputs": [],
   "source": [
    "HTML(eq_video)"
   ]
  },
  {
   "cell_type": "code",
   "execution_count": null,
   "id": "5612c4e7",
   "metadata": {},
   "outputs": [],
   "source": [
    "plt.close()"
   ]
  }
 ],
 "metadata": {
  "kernelspec": {
   "display_name": "env_nb",
   "language": "python",
   "name": "env_nb"
  },
  "language_info": {
   "codemirror_mode": {
    "name": "ipython",
    "version": 3
   },
   "file_extension": ".py",
   "mimetype": "text/x-python",
   "name": "python",
   "nbconvert_exporter": "python",
   "pygments_lexer": "ipython3",
   "version": "3.10.9"
  }
 },
 "nbformat": 4,
 "nbformat_minor": 5
}
