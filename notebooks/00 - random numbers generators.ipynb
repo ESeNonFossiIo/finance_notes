{
 "cells": [
  {
   "cell_type": "code",
   "execution_count": null,
   "id": "d9b3d46b",
   "metadata": {},
   "outputs": [],
   "source": [
    "import numpy as np\n",
    "import pandas as pd\n",
    "import matplotlib.pyplot as plt\n",
    "import seaborn as sns"
   ]
  },
  {
   "cell_type": "markdown",
   "id": "20dbcd5a",
   "metadata": {},
   "source": [
    "# Sobol"
   ]
  },
  {
   "cell_type": "code",
   "execution_count": null,
   "id": "ab9e75bd",
   "metadata": {},
   "outputs": [],
   "source": [
    "from scipy.stats import qmc"
   ]
  },
  {
   "cell_type": "code",
   "execution_count": null,
   "id": "3386b4ee",
   "metadata": {},
   "outputs": [],
   "source": [
    "sampler = qmc.Sobol(d=8, scramble=False)\n",
    "sampler = qmc.Sobol(d=8)\n",
    "sample = sampler.random_base2(m=8)\n",
    "raw_data = sample\n",
    "data = pd.DataFrame(raw_data)"
   ]
  },
  {
   "cell_type": "code",
   "execution_count": null,
   "id": "c00f32ec",
   "metadata": {},
   "outputs": [],
   "source": [
    "sns.pairplot(data)"
   ]
  },
  {
   "cell_type": "code",
   "execution_count": null,
   "id": "b409e3d5",
   "metadata": {},
   "outputs": [],
   "source": [
    "plt.scatter(data[3], data[6])\n",
    "plt.show()"
   ]
  },
  {
   "cell_type": "code",
   "execution_count": null,
   "id": "d0bf42a5",
   "metadata": {},
   "outputs": [],
   "source": [
    "qmc.discrepancy(sample)"
   ]
  }
 ],
 "metadata": {
  "kernelspec": {
   "display_name": "env_nb",
   "language": "python",
   "name": "env_nb"
  },
  "language_info": {
   "codemirror_mode": {
    "name": "ipython",
    "version": 3
   },
   "file_extension": ".py",
   "mimetype": "text/x-python",
   "name": "python",
   "nbconvert_exporter": "python",
   "pygments_lexer": "ipython3",
   "version": "3.10.9"
  }
 },
 "nbformat": 4,
 "nbformat_minor": 5
}
