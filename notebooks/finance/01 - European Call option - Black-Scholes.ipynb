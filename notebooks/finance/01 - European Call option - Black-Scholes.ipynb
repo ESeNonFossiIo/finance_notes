{
 "cells": [
  {
   "cell_type": "code",
   "execution_count": 1,
   "id": "62481660",
   "metadata": {},
   "outputs": [],
   "source": [
    "import math\n",
    "import numpy as np\n",
    "import matplotlib.pyplot as plt"
   ]
  },
  {
   "cell_type": "code",
   "execution_count": 2,
   "id": "4584e466",
   "metadata": {},
   "outputs": [],
   "source": [
    "from scipy.stats import norm\n",
    "from scipy.linalg import solve"
   ]
  },
  {
   "cell_type": "code",
   "execution_count": 3,
   "id": "a459e25e",
   "metadata": {},
   "outputs": [],
   "source": [
    "%matplotlib inline"
   ]
  },
  {
   "cell_type": "markdown",
   "id": "80153ce0",
   "metadata": {},
   "source": [
    "# Symbols\n",
    "\n",
    "\\$T = \\$ expiration time \\\n",
    "\\$S = \\$ stock price \\\n",
    "\\$K = \\$ strike \\\n",
    "\\$r = \\$ risk free rate \\\n",
    "\\$q = \\$ dividend yield \\\n",
    "\\$\\mu = \\$ expected return (constant)\\\n",
    "\\$\\sigma = \\$ volatility (constant)"
   ]
  },
  {
   "cell_type": "markdown",
   "id": "b301a3f9",
   "metadata": {},
   "source": [
    "# zero volatility\n",
    "\n",
    "\\$ \\rm{d}S = \\mu S \\rm{d}t \\$ \\\n",
    "\\$ S_T = S_0 \\rm{e}^{\\mu T} \\quad\\textit{or}\\quad \\ln{S_t} = \\ln{S_0} + \\mu T\\$"
   ]
  },
  {
   "cell_type": "markdown",
   "id": "3ebe3968",
   "metadata": {},
   "source": [
    "# not zero volatility\n",
    "\\$ \\rm{d}S = \\mu S \\rm{d}t + S\\sigma \\rm{d}W(t)\\$ \\\n",
    "\\$ S_T = S_0 \\rm{e}^{\\big(\\mu - \\frac{\\sigma^2}{2}\\big)T  + \\sigma\\sqrt{T} \\cdot z} \\quad\\textit{or}\\quad \\ln{S_t} = \\ln{S_0} + {\\big(\\mu - \\frac{\\sigma^2}{2}\\big)T  + \\sigma\\sqrt{T} \\cdot z} \\$"
   ]
  },
  {
   "cell_type": "code",
   "execution_count": 4,
   "id": "22636f93",
   "metadata": {},
   "outputs": [],
   "source": [
    "S0 = 100.0\n",
    "K = 110.0\n",
    "t0 = 0.0\n",
    "T = 0.2\n",
    "r = 0.05\n",
    "q = 0.02\n",
    "sigma = 0.25"
   ]
  },
  {
   "cell_type": "code",
   "execution_count": 5,
   "id": "f8cec6c1",
   "metadata": {},
   "outputs": [],
   "source": [
    "mu = r - q"
   ]
  },
  {
   "cell_type": "markdown",
   "id": "71cb744b",
   "metadata": {},
   "source": [
    "# Black–Scholes Formula"
   ]
  },
  {
   "cell_type": "code",
   "execution_count": 6,
   "id": "5c547944",
   "metadata": {},
   "outputs": [
    {
     "data": {
      "text/plain": [
       "1.4013574261946238"
      ]
     },
     "execution_count": 6,
     "metadata": {},
     "output_type": "execute_result"
    }
   ],
   "source": [
    "dt = T - t0\n",
    "sqrt_dt = np.sqrt(dt)\n",
    "sigma_sqrt_dt = sigma * sqrt_dt\n",
    "\n",
    "d1 = (np.log(S0/K) + (r - q + 0.5 * (sigma * sigma)) * dt) / sigma_sqrt_dt\n",
    "d2 = d1 - sigma_sqrt_dt\n",
    "\n",
    "F =  S0 * np.exp((r - q) * dt)\n",
    "\n",
    "callPriceBS = np.exp(-r * dt) * ((F * norm.cdf(d1)) - (K * norm.cdf(d2)))\n",
    "    \n",
    "# \n",
    "callPriceBS"
   ]
  },
  {
   "cell_type": "markdown",
   "id": "bcde27a0",
   "metadata": {},
   "source": [
    "# MonteCarlo Mothod"
   ]
  },
  {
   "cell_type": "code",
   "execution_count": 7,
   "id": "575a5def",
   "metadata": {},
   "outputs": [],
   "source": [
    "# MonteCarlo method prms\n",
    "nSteps = 1\n",
    "nPaths = 10000000\n",
    "\n",
    "def EuropeanCallOptionMC(nSteps, nPaths):\n",
    "    \"\"\" Compute an European Call Option using Monte-Carlo Method\n",
    "        \n",
    "        Args:\n",
    "            nSteps(int): number of time steps \n",
    "            nPaths(int): number of paths\n",
    "    \"\"\"\n",
    "    dt = (T - t0) / nSteps\n",
    "    sqrt_dt = np.sqrt(dt)\n",
    "\n",
    "    # random number using N(0, 1)\n",
    "    phi = np.random.normal(size=(nSteps, nPaths)) * sqrt_dt\n",
    "\n",
    "    lnS0 = math.log(S0)\n",
    "    lnST = lnS0\n",
    "\n",
    "    # Evolve paths:\n",
    "    for t in range(nSteps):\n",
    "        lnST += ((mu - 0.5 * (sigma*sigma)) * dt) + (sigma * phi[t])\n",
    "    ST = np.exp(lnST)\n",
    "\n",
    "    # European Call option:\n",
    "    callPriceMC = math.exp(-r * T) * np.mean(np.maximum(ST - K, 0.0))\n",
    "    \n",
    "    # \n",
    "    return callPriceMC\n",
    "\n",
    "res = [(2**i, EuropeanCallOptionMC(nSteps, 2**i)) for i in range(6, 25)]\n",
    "x, y = list(zip(*res))"
   ]
  },
  {
   "cell_type": "markdown",
   "id": "1b5bae66",
   "metadata": {},
   "source": [
    "# MC Convergence"
   ]
  },
  {
   "cell_type": "code",
   "execution_count": 8,
   "id": "73f17bcc",
   "metadata": {},
   "outputs": [
    {
     "data": {
      "image/png": "[encoded data removed]",
      "text/plain": [
       "<Figure size 640x480 with 1 Axes>"
      ]
     },
     "metadata": {},
     "output_type": "display_data"
    }
   ],
   "source": [
    "y = np.log(np.abs(y - callPriceBS))\n",
    "\n",
    "plt.plot(x, y, linewidth=2.0)\n",
    "plt.xscale('log')\n",
    "\n",
    "plt.show()"
   ]
  }
 ],
 "metadata": {
  "kernelspec": {
   "display_name": "env_nb",
   "language": "python",
   "name": "env_nb"
  },
  "language_info": {
   "codemirror_mode": {
    "name": "ipython",
    "version": 3
   },
   "file_extension": ".py",
   "mimetype": "text/x-python",
   "name": "python",
   "nbconvert_exporter": "python",
   "pygments_lexer": "ipython3",
   "version": "3.10.9"
  }
 },
 "nbformat": 4,
 "nbformat_minor": 5
}
