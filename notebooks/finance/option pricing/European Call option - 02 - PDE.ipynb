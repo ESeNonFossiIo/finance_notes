{
 "cells": [
  {
   "cell_type": "code",
   "execution_count": 5,
   "id": "62481660",
   "metadata": {},
   "outputs": [],
   "source": [
    "import math\n",
    "import numpy as np\n",
    "import matplotlib.pyplot as pyplot"
   ]
  },
  {
   "cell_type": "code",
   "execution_count": 6,
   "id": "b70367c9",
   "metadata": {},
   "outputs": [],
   "source": [
    "from scipy.stats import norm\n",
    "from scipy.linalg import solve"
   ]
  },
  {
   "cell_type": "code",
   "execution_count": 7,
   "id": "9f5e0bab",
   "metadata": {},
   "outputs": [],
   "source": [
    "from matplotlib import rcParams\n",
    "rcParams['figure.dpi'] = 160\n",
    "rcParams['font.size'] = 20\n",
    "rcParams['font.family'] = 'Arial'"
   ]
  },
  {
   "cell_type": "code",
   "execution_count": 8,
   "id": "84866dfc",
   "metadata": {},
   "outputs": [],
   "source": [
    "%matplotlib inline"
   ]
  },
  {
   "cell_type": "markdown",
   "id": "80153ce0",
   "metadata": {},
   "source": [
    "# Symbols\n",
    "\n",
    "\\$T = \\$ expiration time \\\n",
    "\\$S = \\$ stock price \\\n",
    "\\$K = \\$ strike \\\n",
    "\\$r = \\$ risk free rate \\\n",
    "\\$q = \\$ dividend yield \\\n",
    "\\$\\mu = \\$ expected return (constant)\\\n",
    "\\$\\sigma = \\$ volatility (constant)"
   ]
  },
  {
   "cell_type": "markdown",
   "id": "b301a3f9",
   "metadata": {},
   "source": [
    "# zero volatility\n",
    "\n",
    "\\$ \\rm{d}S = \\mu S \\rm{d}t \\$ \\\n",
    "\\$ S_T = S_0 \\rm{e}^{\\mu T} \\quad\\textit{or}\\quad \\ln{S_t} = \\ln{S_0} + \\mu T\\$"
   ]
  },
  {
   "cell_type": "markdown",
   "id": "3ebe3968",
   "metadata": {},
   "source": [
    "# not zero volatility\n",
    "\\$ \\rm{d}S = \\mu S \\rm{d}t + S\\sigma \\rm{d}W(t)\\$ \\\n",
    "\\$ S_T = S_0 \\rm{e}^{\\big(\\mu - \\frac{\\sigma^2}{2}\\big)T  + \\sigma\\sqrt{T}} \\quad\\textit{or}\\quad \\ln{S_t} = \\ln{S_0} + {\\big(\\mu - \\frac{\\sigma^2}{2}\\big)T  + \\sigma\\sqrt{T}} \\$ \\\n",
    "TODO: use dW(t)"
   ]
  },
  {
   "cell_type": "code",
   "execution_count": 9,
   "id": "7ed1a4ad",
   "metadata": {},
   "outputs": [],
   "source": [
    "# MonteCarlo method prms\n",
    "nSteps = 10\n",
    "nPaths = 10000000"
   ]
  },
  {
   "cell_type": "code",
   "execution_count": 10,
   "id": "22636f93",
   "metadata": {},
   "outputs": [],
   "source": [
    "S0 = 100.0\n",
    "K = 110.0\n",
    "t0 = 0.0\n",
    "T = 0.2\n",
    "r = 0.05\n",
    "q = 0.02\n",
    "sigma = 0.25"
   ]
  },
  {
   "cell_type": "code",
   "execution_count": 11,
   "id": "3e2c7b8b",
   "metadata": {},
   "outputs": [],
   "source": [
    "S0 = 102.0\n",
    "K = 100.0\n",
    "t0 = 0.0\n",
    "T = 0.5\n",
    "r = 0.02\n",
    "q = 0.0\n",
    "sigma = 0.2"
   ]
  },
  {
   "cell_type": "code",
   "execution_count": 12,
   "id": "f8cec6c1",
   "metadata": {},
   "outputs": [],
   "source": [
    "mu = r - q"
   ]
  },
  {
   "cell_type": "markdown",
   "id": "bcde27a0",
   "metadata": {},
   "source": [
    "# MonteCarlo Mothod"
   ]
  },
  {
   "cell_type": "code",
   "execution_count": 13,
   "id": "575a5def",
   "metadata": {},
   "outputs": [
    {
     "data": {
      "text/plain": [
       "7.291808947687098"
      ]
     },
     "execution_count": 13,
     "metadata": {},
     "output_type": "execute_result"
    }
   ],
   "source": [
    "dt = (T - t0) / nSteps\n",
    "sqrt_dt = np.sqrt(dt)\n",
    "\n",
    "# random number using N(0, 1)\n",
    "phi = np.random.normal(size=(nSteps, nPaths)) * sqrt_dt\n",
    "\n",
    "lnS0 = math.log(S0)\n",
    "lnST = lnS0\n",
    "\n",
    "# Evolve paths:\n",
    "for t in range(nSteps):\n",
    "    lnST += ((mu - 0.5 * (sigma*sigma)) * dt) + (sigma * phi[t])\n",
    "ST = np.exp(lnST)\n",
    "\n",
    "# European Call option:\n",
    "callPriceMC = math.exp(-r * T) * np.mean(np.maximum(ST - K, 0.0))\n",
    "\n",
    "# \n",
    "callPriceMC"
   ]
  },
  {
   "cell_type": "markdown",
   "id": "fb76dbe3",
   "metadata": {},
   "source": [
    "# Black–Scholes Formula"
   ]
  },
  {
   "cell_type": "code",
   "execution_count": 14,
   "id": "73f17bcc",
   "metadata": {},
   "outputs": [
    {
     "data": {
      "text/plain": [
       "7.288151182771624"
      ]
     },
     "execution_count": 14,
     "metadata": {},
     "output_type": "execute_result"
    }
   ],
   "source": [
    "dt = T - t0\n",
    "sqrt_dt = np.sqrt(dt)\n",
    "sigma_sqrt_dt = sigma * sqrt_dt\n",
    "\n",
    "d1 = (np.log(S0/K) + (r - q + 0.5 * (sigma * sigma)) * dt) / sigma_sqrt_dt\n",
    "d2 = d1 - sigma_sqrt_dt\n",
    "\n",
    "F =  S0 * np.exp((r - q) * dt)\n",
    "\n",
    "callPriceBS = np.exp(-r * dt) * ((F * norm.cdf(d1)) - (K * norm.cdf(d2)))\n",
    "    \n",
    "# \n",
    "callPriceBS"
   ]
  },
  {
   "cell_type": "markdown",
   "id": "71bac80d",
   "metadata": {},
   "source": [
    "# PDE"
   ]
  },
  {
   "cell_type": "markdown",
   "id": "8a21dc91",
   "metadata": {},
   "source": [
    "https://notebook.community/numerical-mooc/assignment-bank/Black-Scholes-Equation/Black-Scholes-Equation"
   ]
  },
  {
   "cell_type": "markdown",
   "id": "cc00d570",
   "metadata": {},
   "source": [
    "# forward-time central-space scheme to solve the Black-Scholes equation for the call option price"
   ]
  },
  {
   "cell_type": "markdown",
   "id": "61062bb6",
   "metadata": {},
   "source": [
    "$$\\begin{equation} \\frac{\\partial V}{\\partial t}(S, t) + \\frac{1}{2} \\sigma^2 S^2 \\frac{\\partial^2 V}{\\partial S^2}(S, t) + rS \\frac{\\partial V}{\\partial S}(S, t) - rV(S, t) = 0 \\end{equation}$$\n",
    "$V$ stands for the price of the option, $S$ denotes current value of underlying assets, $t$ is time, $r$ denotes the no-risk interest rate (ex.saving rate in bank), and $\\sigma$ denotes the volatility of underlying asset (ex.the standard deviation of the stock's returns).\n",
    "\n",
    "As you can see, the Black-Scholes equation is aimed at calculating the price of an option, so it is the most popular option-pricing method. The only unknown here is the price of option ($V$), depending on $S$ and $t$. In the following part, we will use finite difference methods (both explicit and implicit schemes) to solve this nonlinear second-order parabolic equation.\n",
    "\n",
    "Initial Conditions\n",
    "Now, consider we are holding an European, call option $C(S,t)$ of a stock and we are at the expiry time: $t=T$.\n",
    "\n",
    "If the current price of the stock ($S$) > exercise price ($E$), then we definitely want to execute our right to buy the stock at the price $E$, and the profit we gain from the option is $S-E$.\n",
    "\n",
    "If the current price of the stock ($S$) < exercise price ($E$), then there is no need to exercise the call option, therefore, in this case the value of this option is zero.\n",
    "\n",
    "Thus, for a call option,\n",
    "\n",
    "$$C(S,T) = max(S-E,0)$$\n",
    "This is the final condition for the Black-Scholes equation, however, usually we prefer to deal with an inital condition with a form of $C(S,0) = f(S)$. So here we apply change of variables:\n",
    "\n",
    "$$ t^*(t) = T - t$$\n",
    "then,\n",
    "\n",
    "$$\\frac{\\partial V(S,t)}{\\partial t} = - \\frac{\\partial V(S,t^*)}{\\partial t^*}$$\n",
    "substitute in the Black-Scholes equation:\n",
    "\n",
    "$$-\\frac{\\partial V}{\\partial t^*}(S, t^*) + \\frac{1}{2} \\sigma^2 S^2 \\frac{\\partial^2 V}{\\partial S^2}(S, t^*) + rS \\frac{\\partial V}{\\partial S}(S, t^*) - rV(S, t^*) = 0 $$\n",
    "changing the sign, and use $C$ instead of $V$ since it is a call option:\n",
    "\n",
    "$$\\frac{\\partial C}{\\partial t^*}(S, t^*) - \\frac{1}{2} \\sigma^2 S^2 \\frac{\\partial^2 C}{\\partial S^2}(S, t^*) - rS \\frac{\\partial C}{\\partial S}(S, t^*) + rC(S, t^*) = 0 $$\n",
    "with an initial condition: $C(S,0) = max(S-E,0)$. Be careful that this initial condition reflects the expiry moment $t = T$, and when we are stepping forward to calculate the last time step in $t^*$, we are actually calculating the price of the call option at $t =0$ (that is when we are buying an option).\n",
    "\n",
    "Boundary Conditions\n",
    "In order to make it a well-posed partial differential equation, we need to define the boundary conditions on both sides. The current price of the stock $S$ can take value in the interval $[0,\\infty)$, which is unbounded.\n",
    "\n",
    "left boundary: $S=0$, then $C(0,t^*) = 0$\n",
    "right boundary: $S\\rightarrow \\infty$, then $C(S,t^*) = (S-E) $\n",
    "However, in the numerical method, we need to set an artificial bound $S_{max}$ concerning the space discretization, otherwise we will have inifinity number of grids. Based on Dura's work [ref 1], it is recommended to set $S_{max}$ around four times the exercise price $E$. Here we assume that\n",
    "\n",
    "$$S_{max} = 4E $$\n",
    "thus, the boundary conditions can be written as follows:\n",
    "\n",
    "$$\\begin{cases} C(0,t^*) = 0\\\\ C(S_{max},t^*) = S_{max} - E\\\\ \\end{cases}$$\n",
    "Problem Statement\n",
    "Now let's solve a practical problem using our numerical skills!\n",
    "\n",
    "Consider an European call style option is made for a stock currently trading at 20 dollar per share with volatility 0.4. The term is 3 months (0.25 year) and the strike price is 10 dollar. The prevailing no-risk interest rate is 10 %. What should the price per share be for the option?\n",
    "\n",
    "For the explicit method, we use a forward difference scheme in time $t$, and a central difference scheme in the current price of underlying asset $S$. The truncation error here is second-order in space and first-order in time $O(\\Delta t, \\Delta S^2)$. Write out discretized form for each term:\n",
    "    \n",
    "$$\\begin{equation} \\frac{\\partial C}{\\partial t^*} = \\frac{C_i^{n+1} - C_i^{n}}{\\Delta t}\\\\ \\frac{\\partial C}{\\partial S} = \\frac{C_{i+1}^{n} - C_{i-1}^{n}}{2\\Delta S}\\\\ \\frac{\\partial^2 C}{\\partial S^2} = \\frac{C_{i+1}^{n} - 2C_i^{n} + C_{i-1}^{n}}{(\\Delta S)^2}\\\\ \\end{equation}$$\n",
    "the discretized Black-Scholes equation: $$\\frac{C_i^{n+1} - C_i^{n}}{\\Delta t} - \\frac{1}{2} \\sigma^2 S^2 \\frac{C_{i+1}^{n} - 2C_i^{n} + C_{i-1}^{n}}{(\\Delta S)^2} - rS \\frac{C_{i+1}^{n} - C_{i-1}^{n}}{2\\Delta S} + rC_i^{n} = 0 $$\n",
    "\n",
    "since $S=i \\Delta S$, we can rearrange the above equation as:\n",
    "\n",
    "$$\\frac{C_i^{n+1} - C_i^{n}}{\\Delta t} - \\frac{1}{2} \\sigma^2 i^2 (C_{i+1}^{n} - 2C_i^{n} + C_{i-1}^{n}) - \\frac{1}{2} ri (C_{i+1}^{n} - C_{i-1}^{n}) + rC_i^{n} = 0 $$\n",
    "the option price at the next time step can be expressed as: $$\\begin{equation} C_i^{n+1} = \\frac{1}{2}(\\sigma^2 i^2 \\Delta t-ri\\Delta t)C_{i-1}^n + (1 - \\sigma^2 i^2 \\Delta t -r \\Delta t) C_i^n + \\frac{1}{2}(\\sigma^2 i^2 \\Delta t+ri\\Delta t)C_{i+1}^n \\end{equation}$$"
   ]
  },
  {
   "cell_type": "code",
   "execution_count": 15,
   "id": "6d203dde",
   "metadata": {},
   "outputs": [
    {
     "data": {
      "text/plain": [
       "7.288607374756316"
      ]
     },
     "execution_count": 15,
     "metadata": {},
     "output_type": "execute_result"
    }
   ],
   "source": [
    "N = 2000       # number of time steps \n",
    "M = 300        # number of space grids\n",
    "dt = T/N       # time step\n",
    "\n",
    "# Upper bound for stock price:\n",
    "SMax = 4.0 * S0\n",
    "\n",
    "# Stock prices grid:\n",
    "S = np.linspace(0, SMax, M + 1)\n",
    "# internal indices\n",
    "idx = np.arange(1, M)\n",
    "\n",
    "# initial and boundary conditions\n",
    "C = np.clip(S - K, 0, SMax - K)\n",
    "\n",
    "# Convenience values\n",
    "idx2 = idx * idx\n",
    "s2 = sigma * sigma\n",
    "\n",
    "c0 = s2 * idx2 * dt\n",
    "c1 = r * idx * dt\n",
    "\n",
    "a = 0.5 * (c0 - c1)\n",
    "b = (1.0 - c0 - (r * dt))\n",
    "c = 0.5 * (c0 + c1)\n",
    "\n",
    "for n in range(N):\n",
    "    C[1:-1] = a * C[0:-2] + b * C[1:-1] + c * C[2:]\n",
    "\n",
    "np.interp(S0, S, C)"
   ]
  },
  {
   "cell_type": "code",
   "execution_count": 43,
   "id": "dcf19940",
   "metadata": {},
   "outputs": [],
   "source": [
    "from scipy.sparse import diags"
   ]
  },
  {
   "cell_type": "code",
   "execution_count": 54,
   "id": "93a6d51c",
   "metadata": {},
   "outputs": [],
   "source": [
    "def RHS(C, alpha, beta, gamma, S_max, E):\n",
    "    \"\"\"generate and return the RHS vector b.\n",
    "    \n",
    "    Arguments:\n",
    "        C:       array of the price of call option at previous time step\n",
    "        alpha:   array of coefficients on lower diagnoal\n",
    "        beta:    array of coefficients on diagnoal\n",
    "        gamma:   array of coefficients on upper diagnoal\n",
    "        S_max:   upper bound of stock price\n",
    "        E:       exercise price\n",
    "    \n",
    "    Returns:\n",
    "        b:       RHS vector\n",
    "    \"\"\"\n",
    "    \n",
    "    A_star = diags([1 - beta,\n",
    "                      - gamma[:-1],\n",
    "                      - alpha[1:]], [0, 1, -1]).toarray()\n",
    "        \n",
    "    # A_star = d + ud + ld\n",
    "    b = np.dot(A_star, C[1:-1])\n",
    "    # add BC for the right bound (the last element)\n",
    "    b[-1] += -2*gamma[-1] * (S_max-E) \n",
    "    \n",
    "    return b"
   ]
  },
  {
   "cell_type": "code",
   "execution_count": 69,
   "id": "112b309e",
   "metadata": {},
   "outputs": [
    {
     "data": {
      "text/plain": [
       "7.288257642570578"
      ]
     },
     "execution_count": 69,
     "metadata": {},
     "output_type": "execute_result"
    }
   ],
   "source": [
    "\n",
    "N = 200        # number of time steps\n",
    "dt = T/N       # time step\n",
    "\n",
    "# initial condition & boundary condition\n",
    "C = np.clip(S - K, 0, SMax - K)\n",
    "\n",
    "# calculating the coefficient arrays\n",
    "index = np.arange(1,M)\n",
    "\n",
    "alpha = dt/4 * (r*index - sigma**2*index**2)\n",
    "beta  = dt/2 * (r + sigma**2*index**2)\n",
    "gamma = -dt/4 * (r*index + sigma**2*index**2)\n",
    "\n",
    "A = diags([1+beta,\n",
    "           gamma[:-1],\n",
    "           alpha[1:]], [0, 1, -1]).toarray()\n",
    "\n",
    "# Crank-Nicolson scheme\n",
    "for t in range(N):\n",
    "    b = RHS(C, alpha, beta, gamma, SMax, K)\n",
    "    # use numpy.linalg.solve\n",
    "    C[1:-1] = solve(A, b)\n",
    "        \n",
    "# C_imp = CrankNicolson(C.copy(), A, N, alpha, beta, gamma, SMax, K)\n",
    "np.interp(S0, S, C)"
   ]
  },
  {
   "cell_type": "code",
   "execution_count": 70,
   "id": "9ce11e68",
   "metadata": {},
   "outputs": [
    {
     "ename": "NameError",
     "evalue": "name 'numpy' is not defined",
     "output_type": "error",
     "traceback": [
      "\u001b[0;31m---------------------------------------------------------------------------\u001b[0m",
      "\u001b[0;31mNameError\u001b[0m                                 Traceback (most recent call last)",
      "Cell \u001b[0;32mIn[70], line 1\u001b[0m\n\u001b[0;32m----> 1\u001b[0m d1 \u001b[38;5;241m=\u001b[39m (\u001b[43mnumpy\u001b[49m\u001b[38;5;241m.\u001b[39mlog1p(S0\u001b[38;5;241m/\u001b[39mE) \u001b[38;5;241m+\u001b[39m (r\u001b[38;5;241m+\u001b[39m\u001b[38;5;241m0.5\u001b[39m\u001b[38;5;241m*\u001b[39msigma\u001b[38;5;241m*\u001b[39m\u001b[38;5;241m*\u001b[39m\u001b[38;5;241m2\u001b[39m)\u001b[38;5;241m*\u001b[39mT) \u001b[38;5;241m/\u001b[39m (sigma \u001b[38;5;241m*\u001b[39m numpy\u001b[38;5;241m.\u001b[39msqrt(T))\n\u001b[1;32m      2\u001b[0m d2 \u001b[38;5;241m=\u001b[39m d1 \u001b[38;5;241m-\u001b[39m (sigma \u001b[38;5;241m*\u001b[39m numpy\u001b[38;5;241m.\u001b[39msqrt(T))\n\u001b[1;32m      3\u001b[0m C_exact \u001b[38;5;241m=\u001b[39m S0 \u001b[38;5;241m*\u001b[39m norm\u001b[38;5;241m.\u001b[39mcdf(d1) \u001b[38;5;241m-\u001b[39m E\u001b[38;5;241m*\u001b[39mnumpy\u001b[38;5;241m.\u001b[39mexp(\u001b[38;5;241m-\u001b[39mr\u001b[38;5;241m*\u001b[39mT) \u001b[38;5;241m*\u001b[39m norm\u001b[38;5;241m.\u001b[39mcdf(d2)\n",
      "\u001b[0;31mNameError\u001b[0m: name 'numpy' is not defined"
     ]
    }
   ],
   "source": [
    "d1 = (numpy.log1p(S0/E) + (r+0.5*sigma**2)*T) / (sigma * numpy.sqrt(T))\n",
    "d2 = d1 - (sigma * numpy.sqrt(T))\n",
    "C_exact = S0 * norm.cdf(d1) - E*numpy.exp(-r*T) * norm.cdf(d2)\n",
    "C_exact = numpy.clip(C_exact, 0, numpy.inf)\n",
    "C_exact"
   ]
  },
  {
   "cell_type": "code",
   "execution_count": 393,
   "id": "83d1e7bb",
   "metadata": {},
   "outputs": [
    {
     "data": {
      "text/plain": [
       "2.9950333224433763"
      ]
     },
     "execution_count": 393,
     "metadata": {},
     "output_type": "execute_result"
    }
   ],
   "source": [
    "C_exact = numpy.zeros(M+1)\n",
    "\n",
    "d1 = (numpy.log1p(s/E) + (r+0.5*sigma**2)*T) / (sigma * numpy.sqrt(T))\n",
    "d2 = d1 - (sigma * numpy.sqrt(T))\n",
    "C_exact = s * norm.cdf(d1) - E*numpy.exp(-r*T) * norm.cdf(d2)\n",
    "C_exact = numpy.clip(C_exact, 0, numpy.inf)\n",
    "np.interp(S0, s, C_exact)"
   ]
  },
  {
   "cell_type": "code",
   "execution_count": 394,
   "id": "c2d2d743",
   "metadata": {},
   "outputs": [
    {
     "data": {
      "image/png": "[encoded data removed]",
      "text/plain": [
       "<Figure size 800x500 with 1 Axes>"
      ]
     },
     "metadata": {},
     "output_type": "display_data"
    }
   ],
   "source": [
    "pyplot.figure(figsize=(8,5), dpi=100)\n",
    "pyplot.plot(s, C_exp, color='#20b2aa', ls='-.', lw=3, label='FTCS');\n",
    "pyplot.plot(s, C_imp, color='#cd3333', ls='--', lw=3, label='Crank-Nicolson')\n",
    "pyplot.plot(s, C_exact, color='#FFFF00', ls='-', lw=2, label='Analytical')\n",
    "pyplot.xlabel('Current Price of the Stock (S)')\n",
    "pyplot.ylabel('Price of the call option (C)')\n",
    "pyplot.legend(loc='upper left',prop={'size':15});"
   ]
  },
  {
   "cell_type": "code",
   "execution_count": 390,
   "id": "ec942174",
   "metadata": {},
   "outputs": [
    {
     "name": "stdout",
     "output_type": "stream",
     "text": [
      "FTCS:           C(S=20, t=0) = 7.274899459450525\n",
      "Crank Nicolson: C(S=20, t=0) = 7.274547277007794\n",
      "Exact Solution: C(S=20, t=0) = 2.9950333224433763\n"
     ]
    }
   ],
   "source": [
    "print ('FTCS:           C(S=20, t=0) = {}'.format(np.interp(S0, s, C_exp)))\n",
    "print ('Crank Nicolson: C(S=20, t=0) = {}'.format(np.interp(S0, s, C_imp)))\n",
    "print ('Exact Solution: C(S=20, t=0) = {}'.format(np.interp(S0, s, C_exact)))"
   ]
  },
  {
   "cell_type": "code",
   "execution_count": 329,
   "id": "a01a6577",
   "metadata": {},
   "outputs": [
    {
     "data": {
      "text/plain": [
       "102.0"
      ]
     },
     "execution_count": 329,
     "metadata": {},
     "output_type": "execute_result"
    }
   ],
   "source": [
    "S0"
   ]
  },
  {
   "cell_type": "code",
   "execution_count": null,
   "id": "7ba88ddd",
   "metadata": {},
   "outputs": [],
   "source": []
  }
 ],
 "metadata": {
  "kernelspec": {
   "display_name": "env_nb",
   "language": "python",
   "name": "env_nb"
  },
  "language_info": {
   "codemirror_mode": {
    "name": "ipython",
    "version": 3
   },
   "file_extension": ".py",
   "mimetype": "text/x-python",
   "name": "python",
   "nbconvert_exporter": "python",
   "pygments_lexer": "ipython3",
   "version": "3.10.9"
  }
 },
 "nbformat": 4,
 "nbformat_minor": 5
}
