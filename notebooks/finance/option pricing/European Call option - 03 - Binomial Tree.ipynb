{
 "cells": [
  {
   "cell_type": "code",
   "execution_count": 1,
   "id": "282ed344",
   "metadata": {},
   "outputs": [],
   "source": [
    "import math\n",
    "import numpy as np"
   ]
  },
  {
   "cell_type": "code",
   "execution_count": 2,
   "id": "95191b0f",
   "metadata": {},
   "outputs": [],
   "source": [
    "# DATA:\n",
    "nSteps = 4\n",
    "tTotal = 0.2\n",
    "S0 = 100.0\n",
    "K =105\n",
    "r = 0.05\n",
    "sigma = 0.1"
   ]
  },
  {
   "cell_type": "code",
   "execution_count": 3,
   "id": "18c1ee2c",
   "metadata": {},
   "outputs": [],
   "source": [
    "# Additional values:\n",
    "dt = tTotal/nSteps\n",
    "u = np.exp(sigma * np.sqrt(dt))\n",
    "d = 1.0 / u\n",
    "p = (np.exp(r*dt) - d) / (u - d)"
   ]
  },
  {
   "cell_type": "code",
   "execution_count": 4,
   "id": "5ddf7a70",
   "metadata": {},
   "outputs": [],
   "source": [
    "def bin_coeff(n, m):\n",
    "    \"\"\" Binomial coefficient\n",
    "    \"\"\"\n",
    "    return math.factorial(n) / (math.factorial(n-m) * math.factorial(i))\n",
    "\n",
    "def tartagliaTriangle(N):\n",
    "    \"\"\" Generate Tartaglia's Triangule\n",
    "    \"\"\"\n",
    "    zero = np.array([0.0])\n",
    "    Ta = [np.array([1.0]), \n",
    "         np.array([1.0, 1.0])]\n",
    "\n",
    "    for i in range(N-1):\n",
    "        TR = np.concatenate((zero, Ta[-1]))\n",
    "        TL = np.concatenate((Ta[-1], zero))\n",
    "        Ta.append(TR + TL)\n",
    "\n",
    "    return Ta\n",
    "\n",
    "def prices(N, u, d, S0):\n",
    "    \"\"\" Compute prices at the step N\n",
    "    \n",
    "        np.array([(u**k) * (d**(N-k)) for k in range(N+1)])\n",
    "    \"\"\"\n",
    "    one = np.array([1.0])\n",
    "    P = [np.array([1.0]), \n",
    "         np.array([d, u])]\n",
    "\n",
    "    un = np.array([u])\n",
    "    for i in range(N-1):\n",
    "        un *= u\n",
    "        P.append(np.concatenate((d*P[-1], un)))\n",
    "        \n",
    "    return P\n",
    "\n",
    "def probDist(p, N):\n",
    "    \"\"\" Probability distribution at step N\n",
    "    \"\"\"\n",
    "    return np.array([(p**k) * ((1-p)**(N-k)) for k in range(N+1)])"
   ]
  },
  {
   "cell_type": "code",
   "execution_count": 5,
   "id": "252980cd",
   "metadata": {},
   "outputs": [
    {
     "data": {
      "text/plain": [
       "array([ 0.00000000e+00,  1.11022302e-16,  0.00000000e+00,  0.00000000e+00,\n",
       "       -2.22044605e-16])"
      ]
     },
     "execution_count": 5,
     "metadata": {},
     "output_type": "execute_result"
    }
   ],
   "source": [
    "# Test prices:\n",
    "price2 = np.array([(u**k) * ((d)**(nSteps-k)) for k in range(nSteps+1)])\n",
    "\n",
    "price2 - prices(nSteps, u, d, S0)[-1]"
   ]
  },
  {
   "cell_type": "code",
   "execution_count": 6,
   "id": "d6842f12",
   "metadata": {},
   "outputs": [
    {
     "data": {
      "text/plain": [
       "array([0., 0., 0., 0., 0.])"
      ]
     },
     "execution_count": 6,
     "metadata": {},
     "output_type": "execute_result"
    }
   ],
   "source": [
    "# Test probDist:\n",
    "prob2 = np.array([(p**k) * ((1-p)**(nSteps-k)) for k in range(nSteps+1)])\n",
    "\n",
    "prob2 - probDist(p, nSteps)"
   ]
  },
  {
   "cell_type": "code",
   "execution_count": 7,
   "id": "e437262c",
   "metadata": {},
   "outputs": [
    {
     "data": {
      "text/plain": [
       "0.3957609207710719"
      ]
     },
     "execution_count": 7,
     "metadata": {},
     "output_type": "execute_result"
    }
   ],
   "source": [
    "P = S0 * prices(nSteps, u, d, S0)[-1]\n",
    "pr = probDist(p, nSteps)\n",
    "Ta = tartagliaTriangle(nSteps)[-1]\n",
    "np.sum(np.exp(-r*tTotal) * (np.maximum(P-K, 0.0) * pr * Ta[-1]))"
   ]
  }
 ],
 "metadata": {
  "kernelspec": {
   "display_name": "nb",
   "language": "python",
   "name": "nb"
  },
  "language_info": {
   "codemirror_mode": {
    "name": "ipython",
    "version": 3
   },
   "file_extension": ".py",
   "mimetype": "text/x-python",
   "name": "python",
   "nbconvert_exporter": "python",
   "pygments_lexer": "ipython3",
   "version": "3.10.9"
  }
 },
 "nbformat": 4,
 "nbformat_minor": 5
}
